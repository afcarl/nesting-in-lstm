{
 "cells": [
  {
   "cell_type": "code",
   "execution_count": 4,
   "metadata": {
    "collapsed": true
   },
   "outputs": [],
   "source": [
    "%matplotlib inline\n",
    "from copy import copy\n",
    "import numpy as np\n",
    "import pandas as pd\n",
    "import matplotlib.pyplot as plt\n",
    "import os\n",
    "import seaborn as sns\n",
    "from IPython.core.display import HTML"
   ]
  },
  {
   "cell_type": "code",
   "execution_count": 5,
   "metadata": {
    "collapsed": true
   },
   "outputs": [],
   "source": [
    "keywords = ['cellstates', 'probabilities', 'sample']\n",
    "mapping = {1:'(',\n",
    "           2:')',\n",
    "           3:']',\n",
    "           4:'['}"
   ]
  },
  {
   "cell_type": "code",
   "execution_count": 6,
   "metadata": {
    "collapsed": false
   },
   "outputs": [],
   "source": [
    "check_files = [f[10:] for f in os.listdir(\"cv\") if 'cellstates' in f]\n",
    "#prototyping\n",
    "check_files = ['_lm_test3_epoch41.21_1.0969.txt']\n",
    "\n",
    "\n",
    "#need to modify for > 1 sample\n",
    "#curr_cellstates = pd.read_csv('cellstates'+check_files[0], header=None)\n",
    "curr_probs = pd.read_csv('probabilities'+check_files[0], header=None)\n",
    "curr_probs.columns = ['1','2','3','4']\n",
    "curr_probs = curr_probs.apply(lambda x: np.exp(x))\n",
    "curr_sample = pd.read_csv('sample'+check_files[0], header=None).T\n",
    "curr_sample.columns = ['s']\n",
    "#curr_probs['s'] = curr_sample.s"
   ]
  },
  {
   "cell_type": "code",
   "execution_count": 7,
   "metadata": {
    "collapsed": false
   },
   "outputs": [
    {
     "data": {
      "text/plain": [
       "'([])[[][[([()(]])(]]][[]]]]]([]([)]]([())[)(]][)('"
      ]
     },
     "execution_count": 7,
     "metadata": {},
     "output_type": "execute_result"
    }
   ],
   "source": [
    "sample_text = ''.join([mapping[i] for i in list(curr_sample.s)[:-1]])\n",
    "sample_text"
   ]
  },
  {
   "cell_type": "code",
   "execution_count": 8,
   "metadata": {
    "collapsed": false
   },
   "outputs": [
    {
     "data": {
      "text/html": [
       "<div style=\"font-size:18pt; line-height: 24px\"><span style=\"color:#2f79b5;\">(</span><span style=\"color:#87beda;\">[</span><span style=\"color:#87beda;\">]</span><span style=\"color:#2f79b5;\">)</span><span style=\"color:#2f79b5;\">[</span><span style=\"color:#87beda;\">[</span><span style=\"color:#87beda;\">]</span><span style=\"color:#87beda;\">[</span><span style=\"color:#dbeaf2;\">[</span><span style=\"color:#fbe3d4;\">(</span><span style=\"color:#f09c7b;\">[</span><span style=\"color:#c13639;\">(</span><span style=\"color:#c13639;\">)</span><span style=\"color:#c13639;\">(</span><span style=\"color:#c13639;\">]</span><span style=\"color:#f09c7b;\">]</span><span style=\"color:#fbe3d4;\">)</span><span style=\"color:#fbe3d4;\">(</span><span style=\"color:#fbe3d4;\">]</span><span style=\"color:#dbeaf2;\">]</span><span style=\"color:#87beda;\">]</span><span style=\"color:#87beda;\">[</span><span style=\"color:#dbeaf2;\">[</span><span style=\"color:#dbeaf2;\">]</span><span style=\"color:#87beda;\">]</span><span style=\"color:#2f79b5;\">]</span><span style=\"color:#2f79b5;\">]</span><span style=\"color:#2f79b5;\">]</span><span style=\"color:#2f79b5;\">(</span><span style=\"color:#87beda;\">[</span><span style=\"color:#87beda;\">]</span><span style=\"color:#87beda;\">(</span><span style=\"color:#dbeaf2;\">[</span><span style=\"color:#dbeaf2;\">)</span><span style=\"color:#87beda;\">]</span><span style=\"color:#2f79b5;\">]</span><span style=\"color:#2f79b5;\">(</span><span style=\"color:#87beda;\">[</span><span style=\"color:#dbeaf2;\">(</span><span style=\"color:#dbeaf2;\">)</span><span style=\"color:#87beda;\">)</span><span style=\"color:#87beda;\">[</span><span style=\"color:#87beda;\">)</span><span style=\"color:#87beda;\">(</span><span style=\"color:#87beda;\">]</span><span style=\"color:#2f79b5;\">]</span><span style=\"color:#2f79b5;\">[</span><span style=\"color:#2f79b5;\">)</span><span style=\"color:#2f79b5;\">(</span></div>"
      ],
      "text/plain": [
       "<IPython.core.display.HTML object>"
      ]
     },
     "execution_count": 8,
     "metadata": {},
     "output_type": "execute_result"
    }
   ],
   "source": [
    "def parse_paren(some_string, some_palette):\n",
    "    color_codes = {i:v for i,v in enumerate(some_palette.as_hex())}\n",
    "    html_parse = '<div style=\"font-size:18pt; line-height: 24px\">'\n",
    "    depth = 0\n",
    "    for c in some_string:\n",
    "        if c == \"(\" or c == \"[\":\n",
    "            #print \" \"*depth,\"(\"\n",
    "            html_parse += '<span style=\"color:{0};\">{1}</span>'.format(color_codes[depth], c)\n",
    "            depth+=1\n",
    "            \n",
    "        else:\n",
    "            if depth > 0:\n",
    "                depth-=1\n",
    "            html_parse += '<span style=\"color:{0};\">{1}</span>'.format(color_codes[depth], c)\n",
    "\n",
    "            #print \" \"*depth,\")\"\n",
    "    html_parse += \"</div>\"\n",
    "    return HTML(html_parse)\n",
    "pal5 = sns.color_palette(\"RdBu_r\", 6)\n",
    "\n",
    "parse_paren(sample_text, pal5)"
   ]
  },
  {
   "cell_type": "code",
   "execution_count": 28,
   "metadata": {
    "collapsed": false
   },
   "outputs": [
    {
     "data": {
      "text/plain": [
       "<matplotlib.colors.LinearSegmentedColormap at 0x10b752390>"
      ]
     },
     "execution_count": 28,
     "metadata": {},
     "output_type": "execute_result"
    }
   ],
   "source": [
    "sns.light_palette(\"navy\", as_cmap=True)"
   ]
  },
  {
   "cell_type": "code",
   "execution_count": 10,
   "metadata": {
    "collapsed": false
   },
   "outputs": [],
   "source": [
    "def get_depth_for_samples(some_text):\n",
    "    depth = 0\n",
    "    depth_array = []\n",
    "    for c in some_text:\n",
    "        if c == \"(\" or c == \"[\":\n",
    "            depth+=1\n",
    "        elif depth > 0:\n",
    "            depth-=1\n",
    "        depth_array.append(depth)\n",
    "    \n",
    "    return depth_array"
   ]
  },
  {
   "cell_type": "code",
   "execution_count": 11,
   "metadata": {
    "collapsed": false
   },
   "outputs": [
    {
     "data": {
      "text/plain": [
       "\"['g', 'g', 'g', 'g', 'g', 'g', 'g', 'g', 'g', 'g', 'g', 'g', 'g', 'g', 'r', 'g', 'g', 'g', 'r', 'g', 'g', 'g', 'g', 'g', 'g', 'g', 'r', 'r', 'g', 'g', 'g', 'g', 'g', 'r', 'r', 'r', 'g', 'g', 'g', 'g', 'r', 'g', 'r', 'g', 'r', 'r', 'g', 'r', 'g']\""
      ]
     },
     "execution_count": 11,
     "metadata": {},
     "output_type": "execute_result"
    }
   ],
   "source": [
    "def get_correct_array(some_text):\n",
    "    depth_array = []\n",
    "    correct_array = []\n",
    "    for c in some_text:\n",
    "        if c == \"(\" or c == \"[\":\n",
    "            depth_array.append(c)\n",
    "            correct_array.append('g')\n",
    "        else:\n",
    "            try:\n",
    "                curr_open = depth_array.pop()\n",
    "                if (curr_open == \"(\" and c == \")\") or (curr_open == \"[\" and c == \"]\"):\n",
    "                    correct_array.append('g')\n",
    "                else:\n",
    "                    correct_array.append('r')\n",
    "            except:\n",
    "                correct_array.append('r')\n",
    "    return correct_array\n",
    "str(get_correct_array(sample_text))"
   ]
  },
  {
   "cell_type": "code",
   "execution_count": 43,
   "metadata": {
    "collapsed": false
   },
   "outputs": [
    {
     "name": "stdout",
     "output_type": "stream",
     "text": [
      "49\n",
      "49\n"
     ]
    },
    {
     "data": {
      "image/png": "[encoded data removed]",
      "text/plain": [
       "<matplotlib.figure.Figure at 0x10a3ecf50>"
      ]
     },
     "metadata": {},
     "output_type": "display_data"
    }
   ],
   "source": [
    "plt.figure(figsize=(20,4))\n",
    "ax1 = plt.subplot(312)\n",
    "depths_sample = get_depth_for_samples(sample_text)\n",
    "print len(depths_sample)\n",
    "correct_sample = get_correct_array(sample_text)\n",
    "x_vals = np.linspace(0,48,49)\n",
    "print len(x_vals)\n",
    "plt.scatter(x_vals, depths_sample, c=correct_sample)\n",
    "plt.xlim([0,49])\n",
    "plt.show()"
   ]
  },
  {
   "cell_type": "code",
   "execution_count": 89,
   "metadata": {
    "collapsed": false
   },
   "outputs": [
    {
     "data": {
      "image/png": "[encoded data removed]",
      "text/plain": [
       "<matplotlib.figure.Figure at 0x109695fd0>"
      ]
     },
     "metadata": {},
     "output_type": "display_data"
    }
   ],
   "source": [
    "x = np.array(curr_probs[['2','4']]).T#.reshape(4,50)\n",
    "fig = plt.figure(figsize=(20,6))\n",
    "\n",
    "\n",
    "ax1 = plt.subplot(312)\n",
    "depths_sample = get_depth_for_samples(sample_text)\n",
    "correct_sample = get_correct_array(sample_text)\n",
    "x_vals = np.linspace(0,48,49)\n",
    "plt.scatter(x_vals, depths_sample, c=correct_sample)\n",
    "\n",
    "ax = plt.subplot(313, sharex=ax1)\n",
    "\n",
    "colors = sns.light_palette((315, 80, 50), input=\"husl\", as_cmap=True)#sns.diverging_palette(10, 220, sep=80, n=7, as_cmap=True)\n",
    "plt.imshow(x, interpolation='nearest', aspect=2, cmap=colors)\n",
    "plt.xticks([i+.5 for i in xrange(50)])\n",
    "plt.yticks([.5,1.5]) #\n",
    "#plt.colorbar()\n",
    "\n",
    "labels = [item.get_text() for item in ax.get_xticklabels()]\n",
    "labels[1] = 'Testing'\n",
    "\n",
    "plt.grid(b=True, which='both', color='0.65',linestyle='')\n",
    "\n",
    "import matplotlib.ticker as ticker\n",
    "\n",
    "# a is an axes object, from figure.get_axes()\n",
    "\n",
    "# Hide major tick labels\n",
    "ax.xaxis.set_major_formatter(ticker.NullFormatter())\n",
    "ax.yaxis.set_major_formatter(ticker.NullFormatter())\n",
    "\n",
    "# Customize minor tick labels\n",
    "ax.xaxis.set_minor_locator(ticker.FixedLocator([i for i in xrange(50)]))\n",
    "ax.xaxis.set_minor_formatter(ticker.FixedFormatter([mapping[i] for i in list(curr_sample.s)[:-1]]))\n",
    "\n",
    "ax.yaxis.set_minor_locator(ticker.FixedLocator([0,1]))\n",
    "ax.yaxis.set_minor_formatter(ticker.FixedFormatter([')',']']))\n",
    "\n",
    "figtitle = 'What does the LSTM predict given the depth and generated string?' \n",
    "t = fig.text(.5, .65, figtitle,  \n",
    "               horizontalalignment='center',\n",
    "               fontsize=16) \n",
    "plt.show()"
   ]
  },
  {
   "cell_type": "code",
   "execution_count": 215,
   "metadata": {
    "collapsed": true
   },
   "outputs": [],
   "source": [
    "##cell plot"
   ]
  },
  {
   "cell_type": "code",
   "execution_count": 90,
   "metadata": {
    "collapsed": false
   },
   "outputs": [
    {
     "ename": "NameError",
     "evalue": "name 'df_am' is not defined",
     "output_type": "error",
     "traceback": [
      "\u001b[0;31m---------------------------------------------------------------------------\u001b[0m",
      "\u001b[0;31mNameError\u001b[0m                                 Traceback (most recent call last)",
      "\u001b[0;32m<ipython-input-90-d88b96760fa3>\u001b[0m in \u001b[0;36m<module>\u001b[0;34m()\u001b[0m\n\u001b[0;32m----> 1\u001b[0;31m \u001b[0mdf_am\u001b[0m\u001b[0;34m.\u001b[0m\u001b[0mshape\u001b[0m\u001b[0;34m\u001b[0m\u001b[0m\n\u001b[0m",
      "\u001b[0;31mNameError\u001b[0m: name 'df_am' is not defined"
     ]
    }
   ],
   "source": []
  },
  {
   "cell_type": "code",
   "execution_count": null,
   "metadata": {
    "collapsed": true
   },
   "outputs": [],
   "source": []
  }
 ],
 "metadata": {
  "kernelspec": {
   "display_name": "Python 2",
   "language": "python",
   "name": "python2"
  },
  "language_info": {
   "codemirror_mode": {
    "name": "ipython",
    "version": 2
   },
   "file_extension": ".py",
   "mimetype": "text/x-python",
   "name": "python",
   "nbconvert_exporter": "python",
   "pygments_lexer": "ipython2",
   "version": "2.7.10"
  }
 },
 "nbformat": 4,
 "nbformat_minor": 0
}
